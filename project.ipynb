{
 "cells": [
  {
   "attachments": {},
   "cell_type": "markdown",
   "metadata": {},
   "source": [
    "# Automatic Classification of Bright Retinal Lesions\n"
   ]
  },
  {
   "attachments": {},
   "cell_type": "markdown",
   "metadata": {},
   "source": [
    "#### Classification Algorithm that classify retinal image to three classes: Normal, Drusen, and Exudate retinal fundus images."
   ]
  },
  {
   "attachments": {},
   "cell_type": "markdown",
   "metadata": {},
   "source": [
    "Platform: Python 3.10.7 64-bit\n",
    "\n",
    "Evaluation Criteria: \n",
    "\n",
    "> Sensitivity, specificity, accuracy, F-score, AUC, and confusion matrix"
   ]
  },
  {
   "cell_type": "code",
   "execution_count": 1,
   "metadata": {},
   "outputs": [],
   "source": [
    "# pylint: disable=no-member, missing-function-docstring\n",
    "\n",
    "import os\n",
    "import pathlib\n",
    "import time\n",
    "\n",
    "import cv2\n",
    "import numpy as np\n",
    "import matplotlib.pyplot as plt\n",
    "\n",
    "from sklearn.preprocessing import LabelEncoder\n",
    "from sklearn.model_selection import train_test_split\n",
    "from sklearn.metrics import accuracy_score, precision_score, recall_score, f1_score, confusion_matrix, roc_auc_score, classification_report\n",
    "\n",
    "from keras.models import Sequential\n",
    "from keras.layers import Conv2D, MaxPooling2D, Flatten, Dense"
   ]
  },
  {
   "attachments": {},
   "cell_type": "markdown",
   "metadata": {},
   "source": [
    "## 1- preprocess the images"
   ]
  },
  {
   "cell_type": "code",
   "execution_count": 2,
   "metadata": {},
   "outputs": [],
   "source": [
    "############################### preprocess the images ###########################\n",
    "def preprocess_image(image_path, target_size):\n",
    "    # Load and preprocess a single image\n",
    "    image = cv2.imread(image_path)\n",
    "    image = cv2.cvtColor(image, cv2.COLOR_BGR2RGB)  # Convert to RGB format\n",
    "    # Resize the image using bilinear interpolation\n",
    "    image = cv2.resize(image, target_size, interpolation=cv2.INTER_LINEAR)\n",
    "    # Normalize the image pixel values to 0-1 scale\n",
    "    image = image.astype('float32')/255.0\n",
    "\n",
    "    return image"
   ]
  },
  {
   "attachments": {},
   "cell_type": "markdown",
   "metadata": {},
   "source": [
    "## 2- Load the images"
   ]
  },
  {
   "cell_type": "code",
   "execution_count": 3,
   "metadata": {},
   "outputs": [],
   "source": [
    "############################### Load the images ###############################\n",
    "def load_images_from_directory(directory, target_size):\n",
    "    image_list = []\n",
    "    label_list = []\n",
    "\n",
    "    # Specify the class labels\n",
    "    class_labels = [\"normal\", \"exudates\", \"drusen\"]\n",
    "\n",
    "    # Iterate over the subdirectories (classes) in the directory\n",
    "    for class_name in class_labels:\n",
    "        class_dir = os.path.join(directory, class_name)\n",
    "        if os.path.isdir(class_dir):\n",
    "            # Iterate over the images in the class directory\n",
    "            for filename in os.listdir(class_dir):\n",
    "                # Adjust the file extensions as needed\n",
    "                if filename.endswith(\".jpg\") or filename.endswith(\".png\"):\n",
    "                    image_path = os.path.join(class_dir, filename)\n",
    "                    image = preprocess_image(image_path, target_size)\n",
    "                    image_list.append(image)\n",
    "                    label_list.append(class_name)\n",
    "\n",
    "    # Convert the image list and label list to NumPy arrays\n",
    "    image_array = np.array(image_list)\n",
    "    label_array = np.array(label_list)\n",
    "\n",
    "    return image_array, label_array, class_labels"
   ]
  },
  {
   "cell_type": "code",
   "execution_count": null,
   "metadata": {},
   "outputs": [],
   "source": [
    "# Set the directory path where your images are located\n",
    "DIRECTORY = rf\"{pathlib.Path().resolve()}\\assets\"\n",
    "\n",
    "# Set the target size for resizing the images\n",
    "target_size = (256, 256)  # Adjust the size as needed\n",
    "\n",
    "# Load and preprocess the images from the directory\n",
    "image_array, label_array, class_labels = load_images_from_directory(\n",
    "    DIRECTORY, target_size)"
   ]
  },
  {
   "attachments": {},
   "cell_type": "markdown",
   "metadata": {},
   "source": [
    "## 3- Training the CNN model"
   ]
  },
  {
   "cell_type": "code",
   "execution_count": 4,
   "metadata": {},
   "outputs": [],
   "source": [
    "################################# Training the CNN model #################################\n",
    "def cnn_model(y_train, y_test, X_train, X_test, label_encoder, target_size):\n",
    "\n",
    "    # Convert the string labels to numeric format\n",
    "    y_train = label_encoder.fit_transform(y_train)\n",
    "    y_test = label_encoder.transform(y_test)\n",
    "\n",
    "    # Define the CNN model architecture\n",
    "    model = Sequential()\n",
    "    model.add(Conv2D(32, (3, 3), activation='relu',\n",
    "              input_shape=(target_size[0], target_size[1], 3)))\n",
    "    model.add(MaxPooling2D((2, 2)))\n",
    "    model.add(Conv2D(64, (3, 3), activation='relu'))\n",
    "    model.add(MaxPooling2D((2, 2)))\n",
    "    model.add(Conv2D(128, (3, 3), activation='relu'))\n",
    "    model.add(MaxPooling2D((2, 2)))\n",
    "    model.add(Flatten())\n",
    "    model.add(Dense(128, activation='relu'))\n",
    "    model.add(Dense(3, activation='softmax'))\n",
    "\n",
    "    # Compile the model\n",
    "    model.compile(optimizer='adam', loss='sparse_categorical_crossentropy',\n",
    "                  metrics=['accuracy'])\n",
    "\n",
    "    # Train the model\n",
    "    model.fit(X_train, y_train, epochs=10, batch_size=32,\n",
    "              validation_data=(X_test, y_test))\n",
    "\n",
    "    return model"
   ]
  },
  {
   "cell_type": "code",
   "execution_count": null,
   "metadata": {},
   "outputs": [],
   "source": [
    "# Split the data into training and testing sets\n",
    "X_train, X_test, y_train, y_test = train_test_split(\n",
    "    image_array, label_array, test_size=0.4, random_state=42)"
   ]
  },
  {
   "cell_type": "code",
   "execution_count": null,
   "metadata": {},
   "outputs": [],
   "source": [
    "# Starting time\n",
    "start = time.time()\n",
    "\n",
    "# Train the CNN model\n",
    "label_encoder = LabelEncoder()\n",
    "model = cnn_model(y_train, y_test, X_train, X_test, label_encoder, target_size)\n",
    "\n",
    "# Ending time\n",
    "end = time.time()\n",
    "\n",
    "print(\"Time Elapsed:\", (end-start))"
   ]
  },
  {
   "attachments": {},
   "cell_type": "markdown",
   "metadata": {},
   "source": [
    "## 4- Evaluate the model on the test data"
   ]
  },
  {
   "cell_type": "code",
   "execution_count": 23,
   "metadata": {},
   "outputs": [],
   "source": [
    "############################### Evaluate the model on the test data ###############################\n",
    "def evaluate_model(model, y_test, X_test, class_labels, label_encoder):\n",
    "    # Make predictions on the test set\n",
    "    probabilities = model.predict(X_test)\n",
    "    # Convert probabilities to class labels\n",
    "    y_pred = probabilities.argmax(axis=1)\n",
    "    \n",
    "    y_test = label_encoder.transform(y_test)\n",
    "    \n",
    "    # Calculate AUC\n",
    "    auc = roc_auc_score(y_test, probabilities, multi_class='ovr')\n",
    "    # Calculate accuracy\n",
    "    accuracy = accuracy_score(y_test, y_pred)\n",
    "\n",
    "    # Calculate sensitivity (recall)\n",
    "    sensitivity = recall_score(y_test, y_pred, average='macro')\n",
    "\n",
    "    # Calculate specificity\n",
    "    def specificity_score(y_true, y_pred):\n",
    "        cm = confusion_matrix(y_true, y_pred)\n",
    "        specificity_score = cm[0, 0] / (cm[0, 0] + cm[0, 1])\n",
    "        return specificity_score\n",
    "\n",
    "    specificity = specificity_score(y_test, y_pred)\n",
    "\n",
    "    # Calculate precision\n",
    "    precision = precision_score(y_test, y_pred, average='macro')\n",
    "\n",
    "    # Calculate F1-score\n",
    "    f1 = f1_score(y_test, y_pred, average='macro')\n",
    "\n",
    "    # Print the metrics\n",
    "    print(\"Accuracy:\", accuracy)\n",
    "    print(\"Sensitivity:\", sensitivity)\n",
    "    print(\"Specificity:\", specificity)\n",
    "    print(\"Precision:\", precision)\n",
    "    print(\"F1-score:\", f1)\n",
    "    print(\"AUC:\", auc)\n",
    "    print(classification_report(y_test, y_pred, target_names=class_labels))\n"
   ]
  },
  {
   "cell_type": "code",
   "execution_count": 24,
   "metadata": {},
   "outputs": [
    {
     "name": "stdout",
     "output_type": "stream",
     "text": [
      "1/1 [==============================] - 0s 314ms/step\n",
      "[0 0 2 0 2 1 2 2 1 0 0 2 0 2 1 0 2 1 0 2 2 1 2 0 1 0]\n",
      "[1 1 1 1 2 1 2 2 1 1 1 1 1 1 1 1 2 1 1 2 2 1 2 1 1 1]\n",
      "Accuracy: 0.5\n",
      "Sensitivity: 0.5666666666666667\n",
      "Specificity: 0.0\n",
      "Precision: 0.4385964912280702\n",
      "F1-score: 0.4345098039215686\n",
      "AUC: 0.7868055555555555\n",
      "              precision    recall  f1-score   support\n",
      "\n",
      "      normal       0.00      0.00      0.00        10\n",
      "    exudates       0.32      1.00      0.48         6\n",
      "      drusen       1.00      0.70      0.82        10\n",
      "\n",
      "    accuracy                           0.50        26\n",
      "   macro avg       0.44      0.57      0.43        26\n",
      "weighted avg       0.46      0.50      0.43        26\n",
      "\n"
     ]
    },
    {
     "name": "stderr",
     "output_type": "stream",
     "text": [
      "c:\\Users\\moham\\AppData\\Local\\Programs\\Python\\Python310\\lib\\site-packages\\sklearn\\metrics\\_classification.py:1318: UndefinedMetricWarning: Precision is ill-defined and being set to 0.0 in labels with no predicted samples. Use `zero_division` parameter to control this behavior.\n",
      "  _warn_prf(average, modifier, msg_start, len(result))\n",
      "c:\\Users\\moham\\AppData\\Local\\Programs\\Python\\Python310\\lib\\site-packages\\sklearn\\metrics\\_classification.py:1318: UndefinedMetricWarning: Precision and F-score are ill-defined and being set to 0.0 in labels with no predicted samples. Use `zero_division` parameter to control this behavior.\n",
      "  _warn_prf(average, modifier, msg_start, len(result))\n",
      "c:\\Users\\moham\\AppData\\Local\\Programs\\Python\\Python310\\lib\\site-packages\\sklearn\\metrics\\_classification.py:1318: UndefinedMetricWarning: Precision and F-score are ill-defined and being set to 0.0 in labels with no predicted samples. Use `zero_division` parameter to control this behavior.\n",
      "  _warn_prf(average, modifier, msg_start, len(result))\n",
      "c:\\Users\\moham\\AppData\\Local\\Programs\\Python\\Python310\\lib\\site-packages\\sklearn\\metrics\\_classification.py:1318: UndefinedMetricWarning: Precision and F-score are ill-defined and being set to 0.0 in labels with no predicted samples. Use `zero_division` parameter to control this behavior.\n",
      "  _warn_prf(average, modifier, msg_start, len(result))\n"
     ]
    }
   ],
   "source": [
    "############## Evaluate the model ##################\n",
    "evaluate_model(model, y_test, X_test, class_labels, label_encoder)"
   ]
  },
  {
   "cell_type": "code",
   "execution_count": null,
   "metadata": {},
   "outputs": [],
   "source": [
    "# Make predictions on new data\n",
    "new_data = plt.imread(rf\"{pathlib.Path().resolve()}/\")\n",
    "preprocessed_data = [...]  # Preprocess the new data\n",
    "predictions = model.predict(preprocessed_data)\n",
    "\n",
    "# Print the predicted class labels\n",
    "predicted_labels = np.argmax(predictions, axis=1)\n",
    "class_labels = [\"normal\", \"exudates\", \"drusen\"]\n",
    "for label in predicted_labels:\n",
    "    print(class_labels[label])"
   ]
  }
 ],
 "metadata": {
  "kernelspec": {
   "display_name": "Python 3",
   "language": "python",
   "name": "python3"
  },
  "language_info": {
   "codemirror_mode": {
    "name": "ipython",
    "version": 3
   },
   "file_extension": ".py",
   "mimetype": "text/x-python",
   "name": "python",
   "nbconvert_exporter": "python",
   "pygments_lexer": "ipython3",
   "version": "3.10.2"
  },
  "orig_nbformat": 4
 },
 "nbformat": 4,
 "nbformat_minor": 2
}
